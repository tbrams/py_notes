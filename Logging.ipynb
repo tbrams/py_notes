{
 "cells": [
  {
   "cell_type": "markdown",
   "metadata": {},
   "source": [
    "# Logging\n",
    "\n",
    "## setup"
   ]
  },
  {
   "cell_type": "markdown",
   "metadata": {},
   "source": [
    "Normally this will suffice for setup"
   ]
  },
  {
   "cell_type": "code",
   "execution_count": 14,
   "metadata": {
    "collapsed": false
   },
   "outputs": [],
   "source": [
    "import logging\n",
    "logging.basicConfig(level=logging.DEBUG, format='%(asctime)s - %(name)s - %(levelname)s - %(message)s')"
   ]
  },
  {
   "cell_type": "markdown",
   "metadata": {},
   "source": [
    "But using IPython or Jupyter Notebooks, you will need to reload the logging module, because the underlying system is using logging on it's own already. (Note that in Python 3 it is `imp.reload')\n",
    "\n",
    "This is what works for me"
   ]
  },
  {
   "cell_type": "code",
   "execution_count": 13,
   "metadata": {
    "collapsed": false
   },
   "outputs": [],
   "source": [
    "import logging\n",
    "reload(logging)\n",
    "logging.basicConfig(level=logging.DEBUG, format='%(asctime)s - %(name)s - %(levelname)s - %(message)s')"
   ]
  },
  {
   "cell_type": "markdown",
   "metadata": {},
   "source": [
    "## Function with a problem"
   ]
  },
  {
   "cell_type": "code",
   "execution_count": 4,
   "metadata": {
    "collapsed": true
   },
   "outputs": [],
   "source": [
    "def factorial(n):\n",
    "    total=1\n",
    "    for i in range(n+1):\n",
    "        total*=i\n",
    "    return total"
   ]
  },
  {
   "cell_type": "code",
   "execution_count": 5,
   "metadata": {
    "collapsed": false
   },
   "outputs": [
    {
     "data": {
      "text/plain": [
       "0"
      ]
     },
     "execution_count": 5,
     "metadata": {},
     "output_type": "execute_result"
    }
   ],
   "source": [
    "factorial(5)"
   ]
  },
  {
   "cell_type": "markdown",
   "metadata": {},
   "source": [
    "So we have a program that does not work out of the box - a good example for debugging"
   ]
  },
  {
   "cell_type": "code",
   "execution_count": 12,
   "metadata": {
    "collapsed": false
   },
   "outputs": [
    {
     "name": "stderr",
     "output_type": "stream",
     "text": [
      "2016-01-03 23:49:04,651 - root - DEBUG - program start\n",
      "2016-01-03 23:49:04,652 - root - DEBUG - start of factorial(5)\n",
      "2016-01-03 23:49:04,653 - root - DEBUG - i is 0 - total is 0\n",
      "2016-01-03 23:49:04,654 - root - DEBUG - i is 1 - total is 0\n",
      "2016-01-03 23:49:04,655 - root - DEBUG - i is 2 - total is 0\n",
      "2016-01-03 23:49:04,656 - root - DEBUG - i is 3 - total is 0\n",
      "2016-01-03 23:49:04,656 - root - DEBUG - i is 4 - total is 0\n",
      "2016-01-03 23:49:04,657 - root - DEBUG - i is 5 - total is 0\n",
      "2016-01-03 23:49:04,658 - root - DEBUG - program ended\n"
     ]
    }
   ],
   "source": [
    "logging.debug('program start')\n",
    "def factorial(n):\n",
    "    logging.debug('start of factorial(%i)'%n)\n",
    "    total=1\n",
    "    for i in range(n+1):\n",
    "        total*=i\n",
    "        logging.debug('i is %i - total is %i'%(i,total))\n",
    "    return total\n",
    "\n",
    "factorial(5)\n",
    "logging.debug('program ended')\n"
   ]
  },
  {
   "cell_type": "markdown",
   "metadata": {
    "collapsed": true
   },
   "source": [
    "That should help us identify the problem. Since total remains zero after being muliplied by everything up to n+1 there is probalby a zero involved somewhere. Let's fix this by letting the range start at 1 instead of at 0."
   ]
  },
  {
   "cell_type": "code",
   "execution_count": 15,
   "metadata": {
    "collapsed": false
   },
   "outputs": [
    {
     "name": "stderr",
     "output_type": "stream",
     "text": [
      "2016-01-03 23:56:49,988 - root - DEBUG - program start\n",
      "2016-01-03 23:56:49,989 - root - DEBUG - start of factorial(5)\n",
      "2016-01-03 23:56:49,990 - root - DEBUG - i is 1 - total is 1\n",
      "2016-01-03 23:56:49,991 - root - DEBUG - i is 2 - total is 2\n",
      "2016-01-03 23:56:49,992 - root - DEBUG - i is 3 - total is 6\n",
      "2016-01-03 23:56:49,993 - root - DEBUG - i is 4 - total is 24\n",
      "2016-01-03 23:56:49,994 - root - DEBUG - i is 5 - total is 120\n",
      "2016-01-03 23:56:49,995 - root - DEBUG - program ended\n"
     ]
    }
   ],
   "source": [
    "logging.debug('program start')\n",
    "def factorial(n):\n",
    "    logging.debug('start of factorial(%i)'%n)\n",
    "    total=1\n",
    "    for i in range(1,n+1):\n",
    "        total*=i\n",
    "        logging.debug('i is %i - total is %i'%(i,total))\n",
    "    return total\n",
    "\n",
    "factorial(5)\n",
    "logging.debug('program ended')"
   ]
  },
  {
   "cell_type": "markdown",
   "metadata": {},
   "source": [
    "# Disabling logging\n",
    "Is done like this"
   ]
  },
  {
   "cell_type": "code",
   "execution_count": 19,
   "metadata": {
    "collapsed": true
   },
   "outputs": [],
   "source": [
    "logging.disable(logging.CRITICAL)"
   ]
  },
  {
   "cell_type": "code",
   "execution_count": 18,
   "metadata": {
    "collapsed": false
   },
   "outputs": [
    {
     "name": "stdout",
     "output_type": "stream",
     "text": [
      "120\n"
     ]
    }
   ],
   "source": [
    "logging.debug('program start')\n",
    "def factorial(n):\n",
    "    logging.debug('start of factorial(%i)'%n)\n",
    "    total=1\n",
    "    for i in range(1,n+1):\n",
    "        total*=i\n",
    "        logging.debug('i is %i - total is %i'%(i,total))\n",
    "    return total\n",
    "\n",
    "print(factorial(5))\n",
    "logging.debug('program ended')"
   ]
  },
  {
   "cell_type": "markdown",
   "metadata": {},
   "source": [
    "So no more having to remove debug print statements."
   ]
  },
  {
   "cell_type": "code",
   "execution_count": null,
   "metadata": {
    "collapsed": true
   },
   "outputs": [],
   "source": []
  }
 ],
 "metadata": {
  "kernelspec": {
   "display_name": "Python 2",
   "language": "python",
   "name": "python2"
  },
  "language_info": {
   "codemirror_mode": {
    "name": "ipython",
    "version": 2
   },
   "file_extension": ".py",
   "mimetype": "text/x-python",
   "name": "python",
   "nbconvert_exporter": "python",
   "pygments_lexer": "ipython2",
   "version": "2.7.11"
  }
 },
 "nbformat": 4,
 "nbformat_minor": 0
}
