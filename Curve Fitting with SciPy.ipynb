{
 "cells": [
  {
   "cell_type": "markdown",
   "metadata": {
    "collapsed": true
   },
   "source": [
    "## Introduction to Curve Fitting in SciPy\n",
    "There is something I might be able to use [here](http://docs.scipy.org/doc/scipy/reference/generated/scipy.optimize.curve_fit.html), this example is from the documentation"
   ]
  },
  {
   "cell_type": "code",
   "execution_count": 1,
   "metadata": {
    "collapsed": true
   },
   "outputs": [],
   "source": [
    "import numpy as np\n",
    "import matplotlib.pyplot as plt\n",
    "from scipy.optimize import curve_fit\n",
    "%matplotlib inline\n",
    "\"\"\"\n",
    "create a function to fit with your data. a, b and c are the coefficients\n",
    "that curve_fit will calculate for you. In this part you need to guess and/or\n",
    "use mathematical knowledge to finda function that resembles your data\n",
    "\"\"\"\n",
    "def func(x, a, b, c):\n",
    "    return a * np.exp(-b * x) + c\n",
    "\n",
    "x = np.linspace(0,4,50)\n",
    "y = func(x, 2.5, 1.3, 0.5)\n",
    "yn = y + 0.2*np.random.normal(size=len(x))\n",
    "\n",
    "popt, pcov = curve_fit(func, x, yn)"
   ]
  },
  {
   "cell_type": "markdown",
   "metadata": {},
   "source": [
    "So the pattern that you define a NumPy array for X values and generate or read in your Y values, setup a function with variables we need to adjust for best fit and run the curve_fit function to get these variables packed into the popt list.\n",
    "\n",
    "In this example we are using an exponential function with fixed constants and around that curve, we generate some random noise Yn. Finally we use the noise as basis or our curve fitting call. \n",
    "\n",
    "We plit the noise data with `\"ko\"` which means black circles. Then we use `popt` to unpack a,b and c from the curvefitting result and use it to plot the best fitting curve.\n"
   ]
  },
  {
   "cell_type": "code",
   "execution_count": 2,
   "metadata": {
    "collapsed": false
   },
   "outputs": [
    {
     "name": "stdout",
     "output_type": "stream",
     "text": [
      "Best fit parameters: a=2.356527, b=1.215472 and c=0.523650\n"
     ]
    },
    {
     "data": {
      "image/png": "[encoded data removed]",
      "text/plain": [
       "<matplotlib.figure.Figure at 0x103ed0b50>"
      ]
     },
     "metadata": {},
     "output_type": "display_data"
    }
   ],
   "source": [
    "plt.figure()\n",
    "plt.plot(x, yn, 'ko', label=\"Original Noised Data\")\n",
    "plt.plot(x, func(x, *popt), 'r-', label=\"Fitted Curve\")\n",
    "print(\"Best fit parameters: a=%f, b=%f and c=%f\"%(popt[0],popt[1],popt[2]) )\n",
    "plt.legend()\n",
    "plt.show()"
   ]
  },
  {
   "cell_type": "code",
   "execution_count": null,
   "metadata": {
    "collapsed": true
   },
   "outputs": [],
   "source": []
  }
 ],
 "metadata": {
  "kernelspec": {
   "display_name": "Python 2",
   "language": "python",
   "name": "python2"
  },
  "language_info": {
   "codemirror_mode": {
    "name": "ipython",
    "version": 2
   },
   "file_extension": ".py",
   "mimetype": "text/x-python",
   "name": "python",
   "nbconvert_exporter": "python",
   "pygments_lexer": "ipython2",
   "version": "2.7.11"
  }
 },
 "nbformat": 4,
 "nbformat_minor": 0
}
